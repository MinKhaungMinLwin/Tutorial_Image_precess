{
 "cells": [
  {
   "cell_type": "markdown",
   "id": "316ffb8d",
   "metadata": {},
   "source": [
    "# 003 Computer Vision"
   ]
  },
  {
   "cell_type": "markdown",
   "id": "e805acf6",
   "metadata": {},
   "source": [
    "## Edge Detection"
   ]
  },
  {
   "cell_type": "markdown",
   "id": "a38daaf7",
   "metadata": {},
   "source": [
    "### Sobel, Canny, Laplacian"
   ]
  },
  {
   "cell_type": "code",
   "execution_count": 1,
   "id": "60a4aa2b",
   "metadata": {
    "scrolled": true
   },
   "outputs": [
    {
     "name": "stdout",
     "output_type": "stream",
     "text": [
      "195\n"
     ]
    },
    {
     "name": "stderr",
     "output_type": "stream",
     "text": [
      "Warning: Ignoring XDG_SESSION_TYPE=wayland on Gnome. Use QT_QPA_PLATFORM=wayland to run on Wayland anyway.\n",
      "libGL error: MESA-LOADER: failed to open crocus: /usr/lib/dri/crocus_dri.so: cannot open shared object file: No such file or directory (search paths /usr/lib/x86_64-linux-gnu/dri:\\$${ORIGIN}/dri:/usr/lib/dri, suffix _dri)\n",
      "libGL error: failed to load driver: crocus\n",
      "libGL error: MESA-LOADER: failed to open swrast: /usr/lib/dri/swrast_dri.so: cannot open shared object file: No such file or directory (search paths /usr/lib/x86_64-linux-gnu/dri:\\$${ORIGIN}/dri:/usr/lib/dri, suffix _dri)\n",
      "libGL error: failed to load driver: swrast\n"
     ]
    }
   ],
   "source": [
    "import cv2 as cv\n",
    "import numpy as np\n",
    "import matplotlib.pyplot as plt\n",
    "\n",
    "def main():\n",
    "    img = cv.imread('crop_coins.jpg', 0)\n",
    "    img = cv.resize(img,None, fx = 0.25, fy = 0.25, interpolation = cv.INTER_LINEAR)\n",
    "    \n",
    "    blk_size = 101\n",
    "    constant = 2\n",
    "    th_img = cv.adaptiveThreshold(img, 255, cv.ADAPTIVE_THRESH_MEAN_C, cv.THRESH_BINARY,blk_size, constant)\n",
    "    \n",
    "    medblur_img = cv.medianBlur(th_img,3)  #smoothing\n",
    "    \n",
    "    sobel_x = cv.Sobel(medblur_img, cv.CV_64F, 1, 0, ksize=5)\n",
    "    sobel_y = cv.Sobel(medblur_img, cv.CV_64F, 0, 1, ksize=5)\n",
    "    sobel_img = np.sqrt(sobel_x ** 2 + sobel_y ** 2).astype(np.uint8)\n",
    "#     sobel_img = cv.Sobel(medblur_img, -1,10, ksize = 5)  #edge detect\n",
    "    canny_img = cv.Canny(medblur_img, 100, 150, L2gradient = True)  #good\n",
    "    lap_img = cv.Laplacian( medblur_img, -1) #good\n",
    "    \n",
    "    index, comp = cv.connectedComponents(canny_img)\n",
    "    \n",
    "    print(index)\n",
    "    while True:\n",
    "#         cv.imshow('gray', img)\n",
    "#         cv.imshow('Adaptive thresh', th_img)\n",
    "#         cv.imshow('Median Blur', medblur_img)\n",
    "        cv.imshow('Sobel', sobel_img)\n",
    "        cv.imshow('Canny', canny_img)\n",
    "        cv.imshow('Laplacian', lap_img)\n",
    "        \n",
    "        k = cv.waitKey(10)\n",
    "        if k == 27:\n",
    "            break\n",
    "    \n",
    "    cv.destroyAllWindows()\n",
    "    \n",
    "if __name__ == \"__main__\":\n",
    "    main()"
   ]
  },
  {
   "cell_type": "code",
   "execution_count": 2,
   "id": "1d3817b4",
   "metadata": {},
   "outputs": [
    {
     "name": "stdout",
     "output_type": "stream",
     "text": [
      "Total Coins = 193\n"
     ]
    }
   ],
   "source": [
    "img =cv.imread('crop_coins.jpg')\n",
    "gray= cv.cvtColor(img, cv.COLOR_BGR2GRAY)\n",
    "gray= cv.resize(gray, None, fx= 0.25, fy= 0.25, interpolation = cv.INTER_LINEAR)\n",
    "img = cv.resize(img, None, fx = 0.25, fy = 0.25, interpolation = cv.INTER_LINEAR)\n",
    "\n",
    "blk_size = 101\n",
    "constant = 2\n",
    "th_img = cv.adaptiveThreshold(gray, 255, cv.ADAPTIVE_THRESH_MEAN_C, cv.THRESH_BINARY, blk_size, constant)\n",
    "\n",
    "medblur_img = cv.medianBlur(th_img, 3)   #smoothing\n",
    "\n",
    "canny_img = cv.Canny( medblur_img, 100, 150, L2gradient = True)   #edge detect\n",
    "\n",
    "(counts,_) = cv.findContours(canny_img.copy(), cv.RETR_EXTERNAL, cv.CHAIN_APPROX_SIMPLE)\n",
    "\n",
    "print(\"Total Coins = {}\". format( len(counts)))\n",
    "contour = img.copy()\n",
    "cv.drawContours(contour, counts, -1, (0,0,255), 2)\n",
    "cv.imshow(\"Coins\", contour)\n",
    "\n",
    "k = cv.waitKey(0)\n",
    "if k == 27:\n",
    "    cv.destroyAllWindows()"
   ]
  },
  {
   "cell_type": "markdown",
   "id": "ba4444fc",
   "metadata": {},
   "source": [
    "### Color detection"
   ]
  },
  {
   "cell_type": "code",
   "execution_count": 7,
   "id": "26d58bed",
   "metadata": {},
   "outputs": [
    {
     "name": "stdout",
     "output_type": "stream",
     "text": [
      "Green\n"
     ]
    }
   ],
   "source": [
    "def main():\n",
    "    img = cv.imread('test/01.jpg')\n",
    "    \n",
    "    (r,g,b) = cv.split(img)\n",
    "    \n",
    "    r_mean = np.average(r)\n",
    "    g_mean = np.average(g)\n",
    "    b_mean = np.average(b)\n",
    "    \n",
    "    if(g_mean > r_mean and g_mean > b_mean):\n",
    "        print('Green')\n",
    "    elif(r_mean > g_mean and r_mean > b_mean):\n",
    "        print('Red')\n",
    "    elif(b_mean > g_mean and b_mean > r_mean):\n",
    "        print('Blue')\n",
    "    else:\n",
    "        print('unknown')\n",
    "    \n",
    "    img2 = cv.merge((b,g,r))\n",
    "    \n",
    "    while 1:\n",
    "        cv.imshow(\"01\", img)\n",
    "        k = cv.waitKey(10)\n",
    "        if k == 27:\n",
    "            break\n",
    "    cv.destroyAllWindows()\n",
    "\n",
    "if __name__ == \"__main__\":\n",
    "    main()"
   ]
  },
  {
   "cell_type": "code",
   "execution_count": 9,
   "id": "0a8fce39",
   "metadata": {},
   "outputs": [],
   "source": [
    "def main():\n",
    "    img1 = cv.imread('test/01.jpg')\n",
    "    img2 = cv.imread('test/02.jpg')\n",
    "    img3 = cv.imread('test/03.jpg')\n",
    "    img4 = cv.imread('test/04.jpg')\n",
    "    img5 = cv.imread('test/05.jpg')\n",
    "    img6 = cv.imread('test/06.jpg')\n",
    "    img7 = cv.imread('test/07.jpg')\n",
    "    img8 = cv.imread('test/08.jpg')\n",
    "    img9 = cv.imread('test/09.jpg')\n",
    "    \n",
    "    images = [img1, img2, img3, img4, img5, img6, img7, img8, img9]\n",
    "    indexs = ['01', '02', '03', '04', '05', '06', '07', '08', '09']\n",
    "    texts = []\n",
    "    \n",
    "    for i in range(len(images)):\n",
    "        (r,g,b) = cv.split(images[i])\n",
    "        r_mean = np.average(r)\n",
    "        b_mean = np.average(b)\n",
    "        g_mean = np.average(g)\n",
    "        \n",
    "        if (g_mean > r_mean and g_mean > b_mean):\n",
    "            texts.append('Green')\n",
    "        elif (r_mean > g_mean and r_mean > b_mean):\n",
    "            texts.append('Red')\n",
    "        elif (b_mean > r_mean and b_mean > g_mean):\n",
    "            texts.append('Blue')\n",
    "        else:\n",
    "            texts.append('Unknown')\n",
    "            \n",
    "    while 1:\n",
    "        for i in range(len(images)):\n",
    "            cv.imshow(indexs[i], images[i])\n",
    "            cv.putText(images[i], texts[i], (100,100), cv.FONT_HERSHEY_SIMPLEX,1.2,(0,0,0))\n",
    "            \n",
    "        k = cv.waitKey(10)\n",
    "        if k == 27:\n",
    "            break\n",
    "            \n",
    "    cv.destroyAllWindows()\n",
    "    \n",
    "if __name__ == \"__main__\":\n",
    "    main()"
   ]
  },
  {
   "cell_type": "code",
   "execution_count": 2,
   "id": "2d02a74f",
   "metadata": {},
   "outputs": [
    {
     "name": "stderr",
     "output_type": "stream",
     "text": [
      "[ WARN:0@121.776] global /work/ci_py311/opencv-suite_1676837327081/work/modules/videoio/src/cap_gstreamer.cpp (862) isPipelinePlaying OpenCV | GStreamer warning: GStreamer: pipeline have not been created\n"
     ]
    }
   ],
   "source": [
    "def main():\n",
    "    cap = cv.VideoCapture(0)\n",
    "    \n",
    "    while cap.isOpened():\n",
    "        ret, frame = cap.read()\n",
    "        \n",
    "        hsv = cv.cvtColor(frame, cv.COLOR_BGR2HSV)\n",
    "        \n",
    "        LOW = np.array([100,150,150])  #hsv\n",
    "        HIGH = np.array([140,255,255])  #hsv\n",
    "        \n",
    "        img_mask = cv.inRange(hsv,LOW,HIGH)\n",
    "        \n",
    "        res = cv.bitwise_and(frame,frame, mask = img_mask)\n",
    "        \n",
    "        cv.imshow('Live', frame)\n",
    "        cv.imshow('Mask', img_mask)\n",
    "        cv.imshow('Result', res)\n",
    "        \n",
    "        (con,_) = cv.findContours(img_mask.copy(), cv.RETR_EXTERNAL, cv.CHAIN_APPROX_SIMPLE)\n",
    "        clone = frame.copy()\n",
    "        \n",
    "        for frame_, contour_ in enumerate(con):\n",
    "            area = cv.contourArea(contour_)\n",
    "            if(area > 30):\n",
    "                x,y,w,h = cv.boundingRect(contour_)\n",
    "                cv.rectangle(clone, (x,y), (x+w,y+h), (0,0,255), 2)\n",
    "                cv.putText(clone,\"red\", (x,y+15), cv.FONT_HERSHEY_SIMPLEX, 0.6, (0,0,255))\n",
    "                \n",
    "        k = cv.waitKey(33)\n",
    "        if k == 27:\n",
    "            break\n",
    "    cv.destroyAllWindows()\n",
    "    cap.release()\n",
    "    \n",
    "if __name__ == \"__main__\":\n",
    "    main()"
   ]
  }
 ],
 "metadata": {
  "kernelspec": {
   "display_name": "Python 3 (ipykernel)",
   "language": "python",
   "name": "python3"
  },
  "language_info": {
   "codemirror_mode": {
    "name": "ipython",
    "version": 3
   },
   "file_extension": ".py",
   "mimetype": "text/x-python",
   "name": "python",
   "nbconvert_exporter": "python",
   "pygments_lexer": "ipython3",
   "version": "3.11.4"
  }
 },
 "nbformat": 4,
 "nbformat_minor": 5
}
